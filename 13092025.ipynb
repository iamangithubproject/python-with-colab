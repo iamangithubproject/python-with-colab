{
  "nbformat": 4,
  "nbformat_minor": 0,
  "metadata": {
    "colab": {
      "provenance": [],
      "authorship_tag": "ABX9TyMZAhghXobwU6F+BKeiqRLb",
      "include_colab_link": true
    },
    "kernelspec": {
      "name": "python3",
      "display_name": "Python 3"
    },
    "language_info": {
      "name": "python"
    }
  },
  "cells": [
    {
      "cell_type": "markdown",
      "metadata": {
        "id": "view-in-github",
        "colab_type": "text"
      },
      "source": [
        "<a href=\"https://colab.research.google.com/github/iamangithubproject/python-with-colab/blob/main/13092025.ipynb\" target=\"_parent\"><img src=\"https://colab.research.google.com/assets/colab-badge.svg\" alt=\"Open In Colab\"/></a>"
      ]
    },
    {
      "cell_type": "code",
      "execution_count": 8,
      "metadata": {
        "id": "I-5krrqUGcQL",
        "colab": {
          "base_uri": "https://localhost:8080/"
        },
        "outputId": "47d594a7-871d-479e-baf0-bc88c315287a"
      },
      "outputs": [
        {
          "output_type": "stream",
          "name": "stdout",
          "text": [
            "Enter your age: 19\n",
            "cinema charge 200\n"
          ]
        }
      ],
      "source": [
        "age = int(input(\"Enter your age: \"))\n",
        "if(age<18):\n",
        "  print(\"ticket price\",150)\n",
        "else:\n",
        "  print(\"ticket price\",200)"
      ]
    },
    {
      "cell_type": "code",
      "source": [
        "marks = int(input(\"Enter your marks: \"))\n",
        "if(marks>=40):\n",
        "  print(\"pass\")\n",
        "else:\n",
        "  print(\"fail\")"
      ],
      "metadata": {
        "colab": {
          "base_uri": "https://localhost:8080/"
        },
        "id": "bjiLmVnFJtnP",
        "outputId": "0704da50-ba9d-4d10-e254-0c2838e7cb86"
      },
      "execution_count": 10,
      "outputs": [
        {
          "output_type": "stream",
          "name": "stdout",
          "text": [
            "Enter your marks: 10\n",
            "fail\n"
          ]
        }
      ]
    },
    {
      "cell_type": "code",
      "source": [
        "purchase_amount =int(input(\"enter your purchase amount: \"))\n",
        "if(purchase_amount>=5000):\n",
        "  pay= purchase_amount*0.2\n",
        "  print(\"discount = \",pay)\n",
        "else:\n",
        "  print(\"no discount\")"
      ],
      "metadata": {
        "colab": {
          "base_uri": "https://localhost:8080/"
        },
        "id": "4VGChe7XKOEs",
        "outputId": "53689693-04e2-40f5-a715-5cebf682fc6b"
      },
      "execution_count": 14,
      "outputs": [
        {
          "output_type": "stream",
          "name": "stdout",
          "text": [
            "enter your purchase amount: 5000\n",
            "discount =  1000.0\n"
          ]
        }
      ]
    },
    {
      "cell_type": "code",
      "source": [
        "age=int(input(\"Enter Your Age: \"))\n",
        "if(age>=18):\n",
        "  print(\"Eligible for Voting\")\n",
        "else:\n",
        "  print(\"Not Eligible to Vote\")\n"
      ],
      "metadata": {
        "colab": {
          "base_uri": "https://localhost:8080/"
        },
        "id": "bzMtyjGzLWRG",
        "outputId": "ecf3b013-67d6-4482-871f-a7173010f679"
      },
      "execution_count": 19,
      "outputs": [
        {
          "output_type": "stream",
          "name": "stdout",
          "text": [
            "Enter Your Age: 10\n",
            "Not Eligible to Vote\n"
          ]
        }
      ]
    },
    {
      "cell_type": "code",
      "source": [
        "age = int(input(\"Enter your age: \"))\n",
        "salary = float(input(\"Enter your salary: \"))\n",
        "if(age>=21) and (salary>=25000):\n",
        "  print(\"Eligible for loan\")\n",
        "else:\n",
        "  print(\"Not Eligible for loan\")"
      ],
      "metadata": {
        "colab": {
          "base_uri": "https://localhost:8080/"
        },
        "id": "_8cSX3PNL5K9",
        "outputId": "196c8585-0b1b-4b96-ae61-e79acc574bb8"
      },
      "execution_count": 24,
      "outputs": [
        {
          "output_type": "stream",
          "name": "stdout",
          "text": [
            "Enter your age: 21\n",
            "Enter your salary: 200\n",
            "Not Eligible for loan\n"
          ]
        }
      ]
    },
    {
      "cell_type": "code",
      "source": [
        "\n",
        "\n",
        "if len(password)<8:\n",
        "  print(\" password  is too short\")\n",
        "elif not any(char.isdigit() for char in password):\n",
        "  print(\"password should have at least one digit\")\n",
        "elif not any(char.isupper() for char in password):\n",
        "  print(\"password should have at least one uppercase letter\")"
      ],
      "metadata": {
        "id": "4lv5NRu2MxRj"
      },
      "execution_count": null,
      "outputs": []
    },
    {
      "cell_type": "code",
      "source": [
        "order_amount = float(input(\"enter your order amount = \"))\n",
        "premium_member = str(input(\"Are you a premium member? =\"))\n",
        "if(order_amount>=1000) or (premium_member==\"yes\"):\n",
        "  print(\"Free Deliver\")\n",
        "else:\n",
        "  print(\"Deliver Charge Apply\")\n",
        "\n"
      ],
      "metadata": {
        "colab": {
          "base_uri": "https://localhost:8080/"
        },
        "id": "OHIim4xfOOFm",
        "outputId": "7c7e2c23-19d9-4c5e-f66d-cf7db53c5a21"
      },
      "execution_count": 37,
      "outputs": [
        {
          "output_type": "stream",
          "name": "stdout",
          "text": [
            "enter your order amount = 100\n",
            "Are you a premium member? =no\n",
            "Deliver Charge Apply\n"
          ]
        }
      ]
    }
  ]
}