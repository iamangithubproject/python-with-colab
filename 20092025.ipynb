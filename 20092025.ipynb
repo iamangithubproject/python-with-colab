{
  "nbformat": 4,
  "nbformat_minor": 0,
  "metadata": {
    "colab": {
      "provenance": [],
      "authorship_tag": "ABX9TyO1zXUvalxYoiMeMvr1WER6",
      "include_colab_link": true
    },
    "kernelspec": {
      "name": "python3",
      "display_name": "Python 3"
    },
    "language_info": {
      "name": "python"
    }
  },
  "cells": [
    {
      "cell_type": "markdown",
      "metadata": {
        "id": "view-in-github",
        "colab_type": "text"
      },
      "source": [
        "<a href=\"https://colab.research.google.com/github/iamangithubproject/python-with-colab/blob/main/20092025.ipynb\" target=\"_parent\"><img src=\"https://colab.research.google.com/assets/colab-badge.svg\" alt=\"Open In Colab\"/></a>"
      ]
    },
    {
      "cell_type": "markdown",
      "source": [
        "Question\\\n",
        "\n",
        "---\n",
        "\n",
        "\n",
        "1. Given a positive  integer n, find its square root.If n is not a perfect square, then return only integer part of square root.\n",
        "sample input: n=10\n",
        "output:3\n"
      ],
      "metadata": {
        "id": "LcqI2TYbmEng"
      }
    },
    {
      "cell_type": "code",
      "source": [
        "n=int(input(\"enter a no.:\"))\n",
        "import math\n",
        "print(math.floor(math.sqrt(n)))"
      ],
      "metadata": {
        "colab": {
          "base_uri": "https://localhost:8080/"
        },
        "id": "P-iU4Me9njyC",
        "outputId": "c828e5f7-2907-427b-8d65-e8503e91aef6"
      },
      "execution_count": null,
      "outputs": [
        {
          "output_type": "stream",
          "name": "stdout",
          "text": [
            "enter a no.:9\n",
            "3\n"
          ]
        }
      ]
    },
    {
      "cell_type": "markdown",
      "source": [
        "2. Given a string s, the task is to check if it is palindeome or not. A palindrome string is a string that reads the same forwords and backwords.\n",
        "sample input: s=\"level\"\n",
        "output: true"
      ],
      "metadata": {
        "id": "j5Xl0TuVqvP4"
      }
    },
    {
      "cell_type": "code",
      "source": [
        "s=str(input())\n",
        "if s==s[::-1]:\n",
        "  print(\"true\")\n",
        "else:\n",
        "  print(\"false\")"
      ],
      "metadata": {
        "colab": {
          "base_uri": "https://localhost:8080/"
        },
        "id": "JZec6HySrXpn",
        "outputId": "07120982-4c12-42f2-c1d5-8a1e1ac7df13"
      },
      "execution_count": null,
      "outputs": [
        {
          "output_type": "stream",
          "name": "stdout",
          "text": [
            "apple\n",
            "false\n"
          ]
        }
      ]
    },
    {
      "cell_type": "markdown",
      "source": [
        "3. Given a list of positive integer of size n. the task is to find second largest distinct element from the array."
      ],
      "metadata": {
        "id": "ciluHKD4sr3q"
      }
    },
    {
      "cell_type": "code",
      "source": [
        "arr = [10,14,57,12,50,17]\n",
        "length = len(arr)\n",
        "i=0\n",
        "largest=-1\n",
        "second_largest=-1\n",
        "\n",
        "while i<length:\n",
        "  if arr[i]>largest:\n",
        "    largest=arr[i]\n",
        "  i=i+1\n",
        "print('largest:',largest)\n",
        "\n",
        "i=0\n",
        "while i<length:\n",
        "  if arr[i]>second_largest and arr[i]!=largest:\n",
        "    second_largest=arr[i]\n",
        "\n",
        "  i=i+1;\n",
        "print(\"second largest = \",second_largest)\n"
      ],
      "metadata": {
        "colab": {
          "base_uri": "https://localhost:8080/"
        },
        "id": "RI10j1YNtXR_",
        "outputId": "fa0b9181-a0b3-443b-b13d-3e1ae5d0b562"
      },
      "execution_count": 2,
      "outputs": [
        {
          "output_type": "stream",
          "name": "stdout",
          "text": [
            "largest: 57\n",
            "second largest =  50\n"
          ]
        }
      ]
    },
    {
      "cell_type": "markdown",
      "source": [
        "4. Given an integer n. Print the multiplication table of it"
      ],
      "metadata": {
        "id": "lUM-KOUGvk-H"
      }
    },
    {
      "cell_type": "code",
      "source": [
        "n=7\n",
        "for i in range(1,11):\n",
        "  multi=n*i;\n",
        "  print(f'{n}  * {i} =',multi)\n"
      ],
      "metadata": {
        "colab": {
          "base_uri": "https://localhost:8080/"
        },
        "id": "Tw1RlPNJwRpY",
        "outputId": "f5ebe6f1-4e9b-465a-bc46-3142f2f9aa2d"
      },
      "execution_count": null,
      "outputs": [
        {
          "output_type": "stream",
          "name": "stdout",
          "text": [
            "7  * 1 = 7\n",
            "7  * 2 = 14\n",
            "7  * 3 = 21\n",
            "7  * 4 = 28\n",
            "7  * 5 = 35\n",
            "7  * 6 = 42\n",
            "7  * 7 = 49\n",
            "7  * 8 = 56\n",
            "7  * 9 = 63\n",
            "7  * 10 = 70\n"
          ]
        }
      ]
    },
    {
      "cell_type": "markdown",
      "source": [
        "5. Given starting point s, common difference d, terms t. Print arithematic progration series from it till t term.\n",
        "input: s=3,d=2, t=4\n",
        "output: 3,5,7,9"
      ],
      "metadata": {
        "id": "L1PlDsxFyqxX"
      }
    },
    {
      "cell_type": "code",
      "source": [
        "s=3\n",
        "d=2\n",
        "t=int(input(\"Enter no. term you want to print in series:\"))\n",
        "for i in range(s,s+(t-1)*d +1,d):\n",
        "  print(i)\n"
      ],
      "metadata": {
        "colab": {
          "base_uri": "https://localhost:8080/"
        },
        "id": "UVtDsA0ZzI0B",
        "outputId": "d364795b-e6d1-422b-8418-fb0e5006083c"
      },
      "execution_count": null,
      "outputs": [
        {
          "output_type": "stream",
          "name": "stdout",
          "text": [
            "Enter no. term you want to print in series:5\n",
            "3\n",
            "5\n",
            "7\n",
            "9\n",
            "11\n"
          ]
        }
      ]
    },
    {
      "cell_type": "code",
      "source": [
        "n=5\n",
        "for i in range(1,n+1):\n",
        "  for j in range(1,i+1):\n",
        "    print(j,end='')\n",
        "  print()"
      ],
      "metadata": {
        "id": "7zcvniMc9j05",
        "outputId": "4b37fd36-8166-4707-d154-5da5434ed2d6",
        "colab": {
          "base_uri": "https://localhost:8080/"
        }
      },
      "execution_count": 4,
      "outputs": [
        {
          "output_type": "stream",
          "name": "stdout",
          "text": [
            "1\n",
            "12\n",
            "123\n",
            "1234\n",
            "12345\n"
          ]
        }
      ]
    },
    {
      "cell_type": "code",
      "source": [
        "#write a python program that reads an integer N and prints all prime numbers from 2 to 20.\n",
        "for i in range(2,21):\n",
        "  for j in range(2,i):\n",
        "    if i%j==0:\n",
        "      break\n",
        "  else:\n",
        "    print(i)\n"
      ],
      "metadata": {
        "id": "l0tCoRHd-Hv1",
        "outputId": "f01273e1-3801-4d70-87a6-611d27a7a337",
        "colab": {
          "base_uri": "https://localhost:8080/"
        }
      },
      "execution_count": 5,
      "outputs": [
        {
          "output_type": "stream",
          "name": "stdout",
          "text": [
            "2\n",
            "3\n",
            "5\n",
            "7\n",
            "11\n",
            "13\n",
            "17\n",
            "19\n"
          ]
        }
      ]
    },
    {
      "cell_type": "code",
      "source": [
        "#wap that reads two integers a and b and prints their GCD and LCM\n"
      ],
      "metadata": {
        "id": "BgHrJ2Ix-X2x"
      },
      "execution_count": null,
      "outputs": []
    }
  ]
}