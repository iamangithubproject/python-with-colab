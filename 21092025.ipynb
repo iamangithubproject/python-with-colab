{
  "nbformat": 4,
  "nbformat_minor": 0,
  "metadata": {
    "colab": {
      "provenance": [],
      "authorship_tag": "ABX9TyPPrx0moE7ffK5U9NorGFjP",
      "include_colab_link": true
    },
    "kernelspec": {
      "name": "python3",
      "display_name": "Python 3"
    },
    "language_info": {
      "name": "python"
    }
  },
  "cells": [
    {
      "cell_type": "markdown",
      "metadata": {
        "id": "view-in-github",
        "colab_type": "text"
      },
      "source": [
        "<a href=\"https://colab.research.google.com/github/iamangithubproject/python-with-colab/blob/main/21092025.ipynb\" target=\"_parent\"><img src=\"https://colab.research.google.com/assets/colab-badge.svg\" alt=\"Open In Colab\"/></a>"
      ]
    },
    {
      "cell_type": "markdown",
      "source": [
        "1/1 + 1/2 + 1/3....+1/10"
      ],
      "metadata": {
        "id": "11uOHTtX-AOJ"
      }
    },
    {
      "cell_type": "code",
      "execution_count": 8,
      "metadata": {
        "id": "QPxhneJy8pQq",
        "outputId": "69db53a2-dfd2-4722-ebca-6bd4268ab042",
        "colab": {
          "base_uri": "https://localhost:8080/"
        }
      },
      "outputs": [
        {
          "output_type": "stream",
          "name": "stdout",
          "text": [
            "enter a no. :11\n",
            "1.0 0.5 0.3333333333333333 0.25 0.2 0.16666666666666666 0.14285714285714285 0.125 0.1111111111111111 0.1 \n",
            "sum: 2.9289682539682538\n"
          ]
        }
      ],
      "source": [
        "n=int(input(\"enter a no. :\"))\n",
        "i=1\n",
        "sum=0\n",
        "while i<n:\n",
        "  a=1/i;\n",
        "  print(a,end=\" \")\n",
        "  sum=sum+a;\n",
        "  i=i+1;\n",
        "print(\"\\nsum:\",sum)"
      ]
    },
    {
      "cell_type": "code",
      "source": [
        "ru"
      ],
      "metadata": {
        "id": "keEYulNVAHCL"
      },
      "execution_count": null,
      "outputs": []
    },
    {
      "cell_type": "code",
      "source": [
        "from google.colab import drive\n",
        "drive.mount('/content/drive')"
      ],
      "metadata": {
        "id": "RfJjeivI9rID"
      },
      "execution_count": null,
      "outputs": []
    }
  ]
}