{
  "nbformat": 4,
  "nbformat_minor": 0,
  "metadata": {
    "colab": {
      "provenance": [],
      "authorship_tag": "ABX9TyPEy69Mr7NAsxE5ZjTMi8X1",
      "include_colab_link": true
    },
    "kernelspec": {
      "name": "python3",
      "display_name": "Python 3"
    },
    "language_info": {
      "name": "python"
    }
  },
  "cells": [
    {
      "cell_type": "markdown",
      "metadata": {
        "id": "view-in-github",
        "colab_type": "text"
      },
      "source": [
        "<a href=\"https://colab.research.google.com/github/iamangithubproject/python-with-colab/blob/main/21092025.ipynb\" target=\"_parent\"><img src=\"https://colab.research.google.com/assets/colab-badge.svg\" alt=\"Open In Colab\"/></a>"
      ]
    },
    {
      "cell_type": "markdown",
      "source": [
        "1/1 + 1/2 + 1/3....+1/10"
      ],
      "metadata": {
        "id": "11uOHTtX-AOJ"
      }
    },
    {
      "cell_type": "code",
      "execution_count": null,
      "metadata": {
        "id": "QPxhneJy8pQq",
        "outputId": "60b0850b-7d65-40b1-cf78-ffcd97dcdd9d",
        "colab": {
          "base_uri": "https://localhost:8080/"
        }
      },
      "outputs": [
        {
          "output_type": "stream",
          "name": "stdout",
          "text": [
            "enter a no. :11\n",
            "1.0 0.5 0.3333333333333333 0.25 0.2 0.16666666666666666 0.14285714285714285 0.125 0.1111111111111111 0.1 \n",
            "sum: 2.9289682539682538\n"
          ]
        }
      ],
      "source": [
        "n=int(input(\"enter a no. :\"))\n",
        "i=1\n",
        "sum=0\n",
        "while i<n:\n",
        "  a=1/i;\n",
        "  print(a,end=\" \")\n",
        "  sum=sum+a;\n",
        "  i=i+1;\n",
        "print(\"\\nsum:\",sum)"
      ]
    },
    {
      "cell_type": "code",
      "source": [
        "marks = [90,47,99,70,60,55,49]\n",
        "students=['amar','akbar','anthony','chandra','satendra','mayank','jain']\n",
        "\n",
        "for i in range(len(marks)-1,-1,-1):\n",
        "  print(marks[i])\n",
        "#\n",
        "\n",
        "print()\n",
        "print(marks)\n",
        "print(len(marks))\n",
        "print(len(students))\n",
        "for i in range(len(marks)):\n",
        "  if marks[i]<60:\n",
        "    print(students[i],end=\" \")"
      ],
      "metadata": {
        "colab": {
          "base_uri": "https://localhost:8080/"
        },
        "id": "iSyhU_7QAj_X",
        "outputId": "5039d105-a1a1-40d4-d40c-6cd4282d32e0"
      },
      "execution_count": 2,
      "outputs": [
        {
          "output_type": "stream",
          "name": "stdout",
          "text": [
            "49\n",
            "55\n",
            "60\n",
            "70\n",
            "99\n",
            "47\n",
            "90\n",
            "\n",
            "[90, 47, 99, 70, 60, 55, 49]\n",
            "7\n",
            "7\n",
            "akbar mayank jain "
          ]
        }
      ]
    },
    {
      "cell_type": "code",
      "source": [
        "n1=[10,20,30,40,50]\n",
        "for i in range(len(n1)-1,-1,-1):\n",
        "  print(f\"Index {i}: Value:{n1[i]}\")\n",
        "n1.insert(2,25)\n",
        "print(n1)\n",
        "\n",
        "n2=n1.copy()\n",
        "print(n2)\n",
        "\n",
        "\n"
      ],
      "metadata": {
        "id": "06ufpvB1HIjv",
        "outputId": "c4e8ee9f-2691-42df-b8a8-b1fd975b96c0",
        "colab": {
          "base_uri": "https://localhost:8080/"
        }
      },
      "execution_count": 12,
      "outputs": [
        {
          "output_type": "stream",
          "name": "stdout",
          "text": [
            "Index 4: Value:50\n",
            "Index 3: Value:40\n",
            "Index 2: Value:30\n",
            "Index 1: Value:20\n",
            "Index 0: Value:10\n",
            "[10, 20, 25, 30, 40, 50]\n",
            "[10, 20, 25, 30, 40, 50]\n"
          ]
        }
      ]
    },
    {
      "cell_type": "code",
      "source": [
        "l1=[\"a\",\"b\"]\n",
        "l2=[\"c\"]\n",
        "l3=[\"d\"]\n",
        "l1.extend(l2)\n",
        "l1.extend(l3)\n",
        "print(l1)"
      ],
      "metadata": {
        "id": "jtD5FufPKdsQ",
        "outputId": "7434f5c8-0eba-4a2d-bd8f-6767e6e29b92",
        "colab": {
          "base_uri": "https://localhost:8080/"
        }
      },
      "execution_count": 16,
      "outputs": [
        {
          "output_type": "stream",
          "name": "stdout",
          "text": [
            "['a', 'b', 'c', 'd']\n"
          ]
        }
      ]
    },
    {
      "cell_type": "code",
      "source": [
        "from google.colab import drive\n",
        "drive.mount('/content/drive')"
      ],
      "metadata": {
        "id": "RfJjeivI9rID"
      },
      "execution_count": null,
      "outputs": []
    }
  ]
}