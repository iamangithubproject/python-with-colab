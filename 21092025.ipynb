{
  "nbformat": 4,
  "nbformat_minor": 0,
  "metadata": {
    "colab": {
      "provenance": [],
      "authorship_tag": "ABX9TyNXLD4fnU03mg9ZJz6kKB7/",
      "include_colab_link": true
    },
    "kernelspec": {
      "name": "python3",
      "display_name": "Python 3"
    },
    "language_info": {
      "name": "python"
    }
  },
  "cells": [
    {
      "cell_type": "markdown",
      "metadata": {
        "id": "view-in-github",
        "colab_type": "text"
      },
      "source": [
        "<a href=\"https://colab.research.google.com/github/iamangithubproject/python-with-colab/blob/main/21092025.ipynb\" target=\"_parent\"><img src=\"https://colab.research.google.com/assets/colab-badge.svg\" alt=\"Open In Colab\"/></a>"
      ]
    },
    {
      "cell_type": "markdown",
      "source": [
        "1/1 + 1/2 + 1/3....+1/10"
      ],
      "metadata": {
        "id": "11uOHTtX-AOJ"
      }
    },
    {
      "cell_type": "code",
      "execution_count": null,
      "metadata": {
        "id": "QPxhneJy8pQq"
      },
      "outputs": [],
      "source": [
        "n=int(input(\"enter a no. :\"))\n",
        "i=1\n",
        "sum=0\n",
        "while i<n:\n",
        "  a=1/i;\n",
        "  print(a,end=\" \")\n",
        "  sum=sum+a;\n",
        "  i=i+1;\n",
        "print(\"\\nsum:\",sum)"
      ]
    },
    {
      "cell_type": "code",
      "source": [],
      "metadata": {
        "id": "NPcBNG6D_6GO"
      },
      "execution_count": null,
      "outputs": []
    },
    {
      "cell_type": "code",
      "source": [
        "from google.colab import drive\n",
        "drive.mount('/content/drive')"
      ],
      "metadata": {
        "id": "RfJjeivI9rID"
      },
      "execution_count": null,
      "outputs": []
    }
  ]
}