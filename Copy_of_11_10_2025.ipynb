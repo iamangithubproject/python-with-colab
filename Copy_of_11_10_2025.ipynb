{
  "nbformat": 4,
  "nbformat_minor": 0,
  "metadata": {
    "colab": {
      "provenance": [],
      "include_colab_link": true
    },
    "kernelspec": {
      "name": "python3",
      "display_name": "Python 3"
    },
    "language_info": {
      "name": "python"
    }
  },
  "cells": [
    {
      "cell_type": "markdown",
      "metadata": {
        "id": "view-in-github",
        "colab_type": "text"
      },
      "source": [
        "<a href=\"https://colab.research.google.com/github/iamangithubproject/python-with-colab/blob/main/Copy_of_11_10_2025.ipynb\" target=\"_parent\"><img src=\"https://colab.research.google.com/assets/colab-badge.svg\" alt=\"Open In Colab\"/></a>"
      ]
    },
    {
      "cell_type": "code",
      "source": [
        "t = (1,2,3,4,[1,2,3],'Hello',(1,))\n",
        "print(type(t))"
      ],
      "metadata": {
        "id": "RU0cWdjgHn1-",
        "colab": {
          "base_uri": "https://localhost:8080/"
        },
        "outputId": "040c7041-d781-460e-9350-49f85f6ed294"
      },
      "execution_count": null,
      "outputs": [
        {
          "output_type": "stream",
          "name": "stdout",
          "text": [
            "<class 'tuple'>\n"
          ]
        }
      ]
    },
    {
      "cell_type": "code",
      "source": [
        "p = (10,20)\n",
        "# p[0] =13 # TypeError: 'tuple' object does not support item assignment\n",
        "\n",
        "new_p = (13,20)\n",
        "print(new_p)"
      ],
      "metadata": {
        "id": "AIvILXceHnzO",
        "colab": {
          "base_uri": "https://localhost:8080/"
        },
        "outputId": "50813d88-b865-48b4-8fbe-288666f5fb59"
      },
      "execution_count": null,
      "outputs": [
        {
          "output_type": "stream",
          "name": "stdout",
          "text": [
            "(13, 20)\n"
          ]
        }
      ]
    },
    {
      "cell_type": "code",
      "source": [
        "t = (1,2,3,4,[1,2,3],'Hello',(1,))\n",
        "\n",
        "l1 = list(t)  # convert tuple to list\n",
        "print(l1)"
      ],
      "metadata": {
        "id": "tAjzx5g4Hnwu",
        "colab": {
          "base_uri": "https://localhost:8080/"
        },
        "outputId": "ea859bf3-d9f1-47db-f063-94d7c1e63971"
      },
      "execution_count": null,
      "outputs": [
        {
          "output_type": "stream",
          "name": "stdout",
          "text": [
            "[1, 2, 3, 4, [1, 2, 3], 'Hello', (1,)]\n"
          ]
        }
      ]
    },
    {
      "cell_type": "code",
      "source": [
        "# append, Insert, Change the value, Delete the value, Extend\n",
        "\n",
        "l1.append(100)\n",
        "# print(l1)\n",
        "\n",
        "l1.insert(2,99)\n",
        "# print(l1)\n",
        "\n",
        "l1[4] = 77\n",
        "# print(l1)\n",
        "\n",
        "del l1[1]\n",
        "print(l1)"
      ],
      "metadata": {
        "colab": {
          "base_uri": "https://localhost:8080/"
        },
        "id": "jfm-2cQflkVr",
        "outputId": "e516b0d9-9bc3-44a9-b8f1-5411685c6c3a"
      },
      "execution_count": null,
      "outputs": [
        {
          "output_type": "stream",
          "name": "stdout",
          "text": [
            "[1, 99, 99, 77, 77, 77, 4, [1, 2, 3], 'Hello', (1,), 100, 100, 100, 100, 100, 100]\n"
          ]
        }
      ]
    },
    {
      "cell_type": "code",
      "source": [
        "t = tuple(l1)\n",
        "print(t)\n",
        "print(type(t))"
      ],
      "metadata": {
        "colab": {
          "base_uri": "https://localhost:8080/"
        },
        "id": "SXUMtrzWlkTR",
        "outputId": "833179d4-22af-4e54-81c9-7a6117ef6fe9"
      },
      "execution_count": null,
      "outputs": [
        {
          "output_type": "stream",
          "name": "stdout",
          "text": [
            "(1, 99, 99, 77, 77, 77, 4, [1, 2, 3], 'Hello', (1,), 100, 100, 100, 100, 100, 100)\n",
            "<class 'tuple'>\n"
          ]
        }
      ]
    },
    {
      "cell_type": "code",
      "source": [
        "tuple1 = ('p','y','t','h','o','n')\n",
        "for i in range(4):\n",
        "  print(tuple1[i])"
      ],
      "metadata": {
        "colab": {
          "base_uri": "https://localhost:8080/"
        },
        "id": "alb0CjJPlkQ8",
        "outputId": "ee8ec0ac-d649-470f-e2b0-012384401374"
      },
      "execution_count": null,
      "outputs": [
        {
          "output_type": "stream",
          "name": "stdout",
          "text": [
            "p\n",
            "y\n",
            "t\n",
            "h\n"
          ]
        }
      ]
    },
    {
      "cell_type": "code",
      "source": [
        "fruit = ('apple','banana','cherry')\n",
        "for index, fruit in enumerate(fruit, start=1):\n",
        "  print(f'{index} : {fruit}')"
      ],
      "metadata": {
        "colab": {
          "base_uri": "https://localhost:8080/"
        },
        "id": "edAQ70ZqlkOj",
        "outputId": "2933c1b5-f850-474c-bfd7-289b7061afe8"
      },
      "execution_count": null,
      "outputs": [
        {
          "output_type": "stream",
          "name": "stdout",
          "text": [
            "1 : apple\n",
            "2 : banana\n",
            "3 : cherry\n"
          ]
        }
      ]
    },
    {
      "cell_type": "code",
      "source": [],
      "metadata": {
        "id": "nVuxPcZvlkME"
      },
      "execution_count": null,
      "outputs": []
    },
    {
      "cell_type": "code",
      "source": [],
      "metadata": {
        "id": "lGbWZt-6HnuA"
      },
      "execution_count": null,
      "outputs": []
    },
    {
      "cell_type": "markdown",
      "source": [
        "**Problem 1: Location System**\n",
        "\n",
        "**Scenario:**\n",
        "A travel mapping app uses tuples to store locaton coordinates of different landmarks to ensure data integrity — once stored, the coordinates cannot be modified directly (immutability keeps records authentic)."
      ],
      "metadata": {
        "id": "ke98MMzHFrdb"
      }
    },
    {
      "cell_type": "code",
      "execution_count": null,
      "metadata": {
        "id": "cDgjgDe7FoF3"
      },
      "outputs": [],
      "source": [
        "# Locations: (latitude, longitude, landmark_name, city)\n",
        "locations = [\n",
        "    (28.61, 77.20, 'India Gate', 'New Delhi'),\n",
        "    (19.07, 72.87, 'Gateway of India', 'Mumbai'),\n",
        "    (22.57, 88.36, 'Red Fort', 'Kolkata'),\n",
        "    (13.08, 80.28, 'Marina Beach', 'Chennai'),\n",
        "    (34.05, -118.24, 'Hollywood Sign', 'Los Angeles'),\n",
        "    (41.87, -87.62, 'Empire State Building', 'New York')\n",
        "]"
      ]
    },
    {
      "cell_type": "markdown",
      "source": [
        "**Task A: Location Dictionary**\n",
        "\n",
        "Create a dictionary where tuple coordinates are keys and landmark names are values.\n",
        "\n",
        "**Task B: Update Coordinates**\n",
        "\n",
        "It’s discovered that the stored coordinates for Marina Beach are slightly off. The correct coordinates are (13.0500, 80.2824). Create a new locations list with this correction — don’t modify the existing tuples directly, since tuples are immutable.\n",
        "\n",
        "**Task C: Find Nearby Locations**\n",
        "\n",
        "FindNearby location based on Latitude.\n",
        "1. Southern India: 12.0°N to 20.0°N\n",
        "2. Northern India: 25.0°N to 35.0°N\n",
        "3. USA: 30.0°N to 45.0°N'\n",
        "\n",
        "Example: Find all landmarks located in southern India.\n",
        "\n",
        "**Task D: Add New Location**\n",
        "\n",
        "Add “Taj Mahal” in Agra with coordinates (27.1751, 78.0421) to the locations list — again, do this without modifying existing tuples, maintaining immutability."
      ],
      "metadata": {
        "id": "DDQG-N6DFzTv"
      }
    },
    {
      "cell_type": "code",
      "source": [
        "# Locations: (latitude, longitude, landmark_name, city)\n",
        "locations = [\n",
        "    (28.61, 77.20, 'India Gate', 'New Delhi'),\n",
        "    (19.07, 72.87, 'Gateway of India', 'Mumbai'),\n",
        "    (22.57, 88.36, 'Red Fort', 'Kolkata'),\n",
        "    (13.08, 80.28, 'Marina Beach', 'Chennai'),\n",
        "    (34.05, -118.24, 'Hollywood Sign', 'Los Angeles'),\n",
        "    (41.87, -87.62, 'Empire State Building', 'New York')\n",
        "]"
      ],
      "metadata": {
        "id": "nc3mBkaCF4Zm"
      },
      "execution_count": null,
      "outputs": []
    },
    {
      "cell_type": "code",
      "source": [],
      "metadata": {
        "id": "JDPJL7BnpMDA"
      },
      "execution_count": null,
      "outputs": []
    },
    {
      "cell_type": "code",
      "source": [],
      "metadata": {
        "id": "qhXMnEQCpMAA"
      },
      "execution_count": null,
      "outputs": []
    },
    {
      "cell_type": "code",
      "source": [],
      "metadata": {
        "id": "cSukYaJ4pL69"
      },
      "execution_count": null,
      "outputs": []
    },
    {
      "cell_type": "code",
      "source": [],
      "metadata": {
        "id": "vqjGfuKopL4j"
      },
      "execution_count": null,
      "outputs": []
    },
    {
      "cell_type": "code",
      "source": [],
      "metadata": {
        "id": "k4SxtDMdNHKB"
      },
      "execution_count": null,
      "outputs": []
    },
    {
      "cell_type": "code",
      "source": [],
      "metadata": {
        "id": "j_uPvuTKNHHu"
      },
      "execution_count": null,
      "outputs": []
    },
    {
      "cell_type": "code",
      "source": [],
      "metadata": {
        "id": "F29KnL6cNHFL"
      },
      "execution_count": null,
      "outputs": []
    },
    {
      "cell_type": "code",
      "source": [],
      "metadata": {
        "id": "yr-lwrwaNHCY"
      },
      "execution_count": null,
      "outputs": []
    },
    {
      "cell_type": "markdown",
      "source": [
        "**Task: Update Coordinates**\n",
        "\n",
        "It’s discovered that the stored coordinates for Marina Beach are slightly off. The correct coordinates are (13.0500, 80.2824). Create a new locations list with this correction — don’t modify the existing tuples directly, since tuples are immutable.\n",
        "\n",
        "**Task C: Find Location**\n",
        "\n",
        "1.   Find Northern Indian Landmarks (25.0°N to 35.0°N)\n",
        "2.   Find American Landmarks (30.0°N to 45.0°N)\n",
        "3.   Count Landmarks by Region\n",
        "4.   Create Organized Region Lists\n",
        "\n",
        "**Task D: Add New Location**\n",
        "\n",
        "Add “Taj Mahal” in Agra with coordinates (27.1751, 78.0421) to the locations list — again, do this without modifying existing tuples, maintaining immutability."
      ],
      "metadata": {
        "id": "Uj1NRD1PNHnx"
      }
    },
    {
      "cell_type": "code",
      "source": [],
      "metadata": {
        "id": "mUHQDUaANJA4"
      },
      "execution_count": null,
      "outputs": []
    },
    {
      "cell_type": "code",
      "source": [],
      "metadata": {
        "id": "DfOWCoAxNI-b"
      },
      "execution_count": null,
      "outputs": []
    },
    {
      "cell_type": "code",
      "source": [],
      "metadata": {
        "id": "usj7VNOINIXJ"
      },
      "execution_count": null,
      "outputs": []
    }
  ]
}