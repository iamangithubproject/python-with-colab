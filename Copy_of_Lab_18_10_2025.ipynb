{
  "nbformat": 4,
  "nbformat_minor": 0,
  "metadata": {
    "colab": {
      "provenance": [],
      "toc_visible": true,
      "include_colab_link": true
    },
    "kernelspec": {
      "name": "python3",
      "display_name": "Python 3"
    },
    "language_info": {
      "name": "python"
    }
  },
  "cells": [
    {
      "cell_type": "markdown",
      "metadata": {
        "id": "view-in-github",
        "colab_type": "text"
      },
      "source": [
        "<a href=\"https://colab.research.google.com/github/iamangithubproject/python-with-colab/blob/main/Copy_of_Lab_18_10_2025.ipynb\" target=\"_parent\"><img src=\"https://colab.research.google.com/assets/colab-badge.svg\" alt=\"Open In Colab\"/></a>"
      ]
    },
    {
      "cell_type": "markdown",
      "source": [
        "# **Dictionary**"
      ],
      "metadata": {
        "id": "G6hAgAnzIxFi"
      }
    },
    {
      "cell_type": "code",
      "execution_count": null,
      "metadata": {
        "colab": {
          "base_uri": "https://localhost:8080/"
        },
        "id": "1bEF3SKBIp01",
        "outputId": "034f0e04-0fe0-4906-ccaa-5038649af023"
      },
      "outputs": [
        {
          "output_type": "stream",
          "name": "stdout",
          "text": [
            "{'brand': 'Suzuki', 'model': 'alto', 'year': 2020}\n"
          ]
        }
      ],
      "source": [
        "mydict={\n",
        "    'brand':'Suzuki',\n",
        "    'model': 'alto',\n",
        "    'year': 2020\n",
        "}\n",
        "print(mydict)"
      ]
    },
    {
      "cell_type": "code",
      "source": [
        "print(type(mydict))"
      ],
      "metadata": {
        "colab": {
          "base_uri": "https://localhost:8080/"
        },
        "id": "yNf5CLZYI06x",
        "outputId": "23452bd6-5df6-476e-864f-f56fa1bd49d6"
      },
      "execution_count": null,
      "outputs": [
        {
          "output_type": "stream",
          "name": "stdout",
          "text": [
            "<class 'dict'>\n"
          ]
        }
      ]
    },
    {
      "cell_type": "code",
      "source": [
        "mydict=dict(brand='Suzuki', model= 'alto', year=2020)\n",
        "print(mydict)"
      ],
      "metadata": {
        "colab": {
          "base_uri": "https://localhost:8080/"
        },
        "id": "JNRQ-pXXNPcN",
        "outputId": "251a8542-3d9e-4aba-da20-f7168925f4dd"
      },
      "execution_count": null,
      "outputs": [
        {
          "output_type": "stream",
          "name": "stdout",
          "text": [
            "{'brand': 'Suzuki', 'model': 'alto', 'year': 2020}\n"
          ]
        }
      ]
    },
    {
      "cell_type": "code",
      "source": [
        "mydict['year'] #call dictionary by its key"
      ],
      "metadata": {
        "colab": {
          "base_uri": "https://localhost:8080/"
        },
        "id": "2cOQHs_YNh-i",
        "outputId": "75d288b5-f990-4535-ec6f-d66f2e2c587d"
      },
      "execution_count": null,
      "outputs": [
        {
          "output_type": "execute_result",
          "data": {
            "text/plain": [
              "2020"
            ]
          },
          "metadata": {},
          "execution_count": 4
        }
      ]
    },
    {
      "cell_type": "code",
      "source": [
        "student=dict(name='sreya', age=29, address='patna')\n",
        "print(student)"
      ],
      "metadata": {
        "colab": {
          "base_uri": "https://localhost:8080/"
        },
        "id": "jC4QJnEhN5ps",
        "outputId": "dcf55fb8-12b1-41ab-ff10-2ddafa3b1c16"
      },
      "execution_count": null,
      "outputs": [
        {
          "output_type": "stream",
          "name": "stdout",
          "text": [
            "{'name': 'sreya', 'age': 29, 'address': 'patna'}\n"
          ]
        }
      ]
    },
    {
      "cell_type": "code",
      "source": [
        "student.update({'gender':'F'})\n",
        "print(student)"
      ],
      "metadata": {
        "colab": {
          "base_uri": "https://localhost:8080/"
        },
        "id": "aStvjvKdOGOp",
        "outputId": "d860005c-b110-4a42-fedd-5d501286357f"
      },
      "execution_count": null,
      "outputs": [
        {
          "output_type": "stream",
          "name": "stdout",
          "text": [
            "{'name': 'sreya', 'age': 29, 'address': 'patna', 'gender': 'F'}\n"
          ]
        }
      ]
    },
    {
      "cell_type": "code",
      "source": [
        "student['age']=30"
      ],
      "metadata": {
        "id": "RHLQtuzrOYEC"
      },
      "execution_count": null,
      "outputs": []
    },
    {
      "cell_type": "code",
      "source": [
        "print(student)"
      ],
      "metadata": {
        "colab": {
          "base_uri": "https://localhost:8080/"
        },
        "id": "x6mnjksEOhfp",
        "outputId": "31826617-ab2d-4b4c-b7fc-6c536b366bb7"
      },
      "execution_count": null,
      "outputs": [
        {
          "output_type": "stream",
          "name": "stdout",
          "text": [
            "{'name': 'sreya', 'age': 30, 'address': 'patna', 'gender': 'F'}\n"
          ]
        }
      ]
    },
    {
      "cell_type": "code",
      "source": [
        "student.pop('gender')"
      ],
      "metadata": {
        "colab": {
          "base_uri": "https://localhost:8080/",
          "height": 35
        },
        "id": "egyoI7nLOpp5",
        "outputId": "94eff0ab-f407-4415-ea5d-ce470afe79ca"
      },
      "execution_count": null,
      "outputs": [
        {
          "output_type": "execute_result",
          "data": {
            "text/plain": [
              "'F'"
            ],
            "application/vnd.google.colaboratory.intrinsic+json": {
              "type": "string"
            }
          },
          "metadata": {},
          "execution_count": 9
        }
      ]
    },
    {
      "cell_type": "code",
      "source": [
        "print(student)"
      ],
      "metadata": {
        "colab": {
          "base_uri": "https://localhost:8080/"
        },
        "id": "wWY2F7fOOxCZ",
        "outputId": "dcce643d-7bfd-4847-88c0-7a18a9c626fb"
      },
      "execution_count": null,
      "outputs": [
        {
          "output_type": "stream",
          "name": "stdout",
          "text": [
            "{'name': 'sreya', 'age': 30, 'address': 'patna'}\n"
          ]
        }
      ]
    },
    {
      "cell_type": "code",
      "source": [
        "# word/character counting\n",
        "text = 'mississippi river'\n",
        "freq = {}\n",
        "for ch in text: # iterates over every character in text\n",
        "  if ch != \" \": # skip spaces\n",
        "    freq[ch] = freq.get(ch,0)+1 # return the current count of 'ch' if it exists, otherwise 0; +1 add and stores it back\n",
        "for ch, c in freq.items(): #it will iterates through the items in the dictionary in insertion order\n",
        "  print(repr(ch), \"--\", c) #repr(ch) prints the character with quotes(e.g, 'm) so you can clearly see spaces or special chars if present\n",
        "print(freq)\n",
        "print(type(freq))"
      ],
      "metadata": {
        "colab": {
          "base_uri": "https://localhost:8080/"
        },
        "id": "pyYFNKgiO7pF",
        "outputId": "6405a002-d8bf-49b1-a77d-8b4a48102f19"
      },
      "execution_count": null,
      "outputs": [
        {
          "output_type": "stream",
          "name": "stdout",
          "text": [
            "'m' -- 1\n",
            "'i' -- 5\n",
            "'s' -- 4\n",
            "'p' -- 2\n",
            "'r' -- 2\n",
            "'v' -- 1\n",
            "'e' -- 1\n",
            "{'m': 1, 'i': 5, 's': 4, 'p': 2, 'r': 2, 'v': 1, 'e': 1}\n",
            "<class 'dict'>\n"
          ]
        }
      ]
    },
    {
      "cell_type": "code",
      "source": [
        "# gradebook + topper per course\n",
        "gradebook = {\n",
        "    \"CS101\": {\"Aman\":{\"mid\":18,\"end\": 72},\"Riya\":{\"mid\": 20, \"end\":68}},\n",
        "    \"MA201\": {\"Rahul\":{\"mid\": 16, \"end\": 70}, \"Neha\" : {\"mid\":22, \"end\": 66}},\n",
        "}\n",
        "for c, r in gradebook.items(): # c is string like CS101, r is the dictionary of student of that course\n",
        "  topper,best = \"\", -1 # topper: current best student's name, best: current best total mark(start at -1 so any real total wins)\n",
        "  for name, sc in r.items(): # sc is the student's score \"Aman\":{\"mid\":18,\"end\": 72}\n",
        "    total = sc.get(\"mid\",0) + sc.get(\"end\",0) # get safely handles missing key by treating them 0\n",
        "    if total > best:\n",
        "      topper, best = name, total\n",
        "  print(c, \"Topper:\", topper, \"Total:\", best )"
      ],
      "metadata": {
        "colab": {
          "base_uri": "https://localhost:8080/"
        },
        "id": "NkCojQ1sRvai",
        "outputId": "ab3d774f-4af8-44be-c029-ae2c33df504e"
      },
      "execution_count": null,
      "outputs": [
        {
          "output_type": "stream",
          "name": "stdout",
          "text": [
            "CS101 Topper: Aman Total: 90\n",
            "MA201 Topper: Neha Total: 88\n"
          ]
        }
      ]
    },
    {
      "cell_type": "markdown",
      "source": [
        "1. You are given a campus layout and a course with the number of students. Allocate seats by:(1) Prefer placing the entire course in a single building. (2) Within a building, use adjacent/nearby rooms (use ascending room numbers to simulate adjacency).(3) Use the fewest rooms possible. If tied, choose the plan with least leftover capacity; if still tied, choose the alphabetically smaller building.(4) Only if no single building can fit, spill to additional buildings (minimize number of buildings used; still fill rooms within each building in ascending room order).\n",
        "\n",
        "Input:\n",
        "\n",
        "campus = {\n",
        "    \"B1\": {6101: 40, 6102: 40, 6103: 30, 6104: 30},\n",
        "    \"B2\": {5101: 50, 5102: 50, 5103: 30}\n",
        "}\n",
        "\n",
        "course = (\"CS3101\", 95)   "
      ],
      "metadata": {
        "id": "6R7bP5kTVExX"
      }
    },
    {
      "cell_type": "code",
      "source": [],
      "metadata": {
        "id": "cgAoBrJSVHL5"
      },
      "execution_count": null,
      "outputs": []
    },
    {
      "cell_type": "markdown",
      "source": [
        "2. Analyze an exam invigilation plan and report how many rooms each invigilator is handling, and identify invigilators who are overloaded (assigned to more than a set number of rooms).\n",
        "\n",
        "Input:\n",
        "\n",
        "A Python dictionary mapping room numbers to invigilator names, e.g.\n",
        "assign = {6101:\"Dr.A\", 6102:\"Dr.B\", 6103:\"Dr.A\", 5101:\"Dr.A\"}\n",
        "\n",
        "An overload threshold T (default T = 2). An invigilator is “overloaded” if the number of rooms assigned to them is strictly greater than T."
      ],
      "metadata": {
        "id": "_RA0nyoLVHvp"
      }
    },
    {
      "cell_type": "code",
      "source": [],
      "metadata": {
        "id": "8T5az1xfVLp8"
      },
      "execution_count": null,
      "outputs": []
    },
    {
      "cell_type": "markdown",
      "source": [
        "3. Given a weekly timetable, detect intra-day slot clashes for each student (i.e., the same slot number appears more than once on the same day). For each student and each day, count how many times each slot appears. Collect slots with count > 1 into a day_clash list. If day_clash is non-empty, add it to clashes[student][day]. Print the final clashes dictionary.\n",
        "\n",
        "Input\n",
        "\n",
        "timetable = {\n",
        "    \"20CS01\": {\"Mon\":[1,2,2,3], \"Tue\":[1,1], \"Wed\":[2]},\n",
        "    \"20CS02\": {\"Mon\":[1,2], \"Tue\":[2], \"Wed\":[3,3,3]}\n",
        "}"
      ],
      "metadata": {
        "id": "kvatyeU8VOlh"
      }
    },
    {
      "cell_type": "code",
      "source": [],
      "metadata": {
        "id": "oc95dG6QVMSq"
      },
      "execution_count": null,
      "outputs": []
    },
    {
      "cell_type": "markdown",
      "source": [
        "4. You will consolidate multiple customer carts into a single demand summary and compute a reorder list by comparing that demand with current stock. Build demand by summing quantities for each item across all entries in carts. For each item in demand, compare with stock and, if needed, add an entry to reorder with the shortage amount. Print demand and reorder.\n",
        "\n",
        "input:\n",
        "\n",
        "carts = [(\"pen\", 4), (\"notebook\", 2), (\"pen\", 3), (\"eraser\", 1)]\n",
        "stock = {\"pen\": 5, \"notebook\": 2, \"eraser\": 0}\n"
      ],
      "metadata": {
        "id": "yoBCrrUCVPax"
      }
    },
    {
      "cell_type": "code",
      "source": [],
      "metadata": {
        "id": "bMyqrkqxVQ5p"
      },
      "execution_count": null,
      "outputs": []
    }
  ]
}