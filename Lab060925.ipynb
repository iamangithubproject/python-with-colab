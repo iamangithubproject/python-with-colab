{
  "nbformat": 4,
  "nbformat_minor": 0,
  "metadata": {
    "colab": {
      "provenance": [],
      "authorship_tag": "ABX9TyOMq5i1vjsQErCqerzcwqvB",
      "include_colab_link": true
    },
    "kernelspec": {
      "name": "python3",
      "display_name": "Python 3"
    },
    "language_info": {
      "name": "python"
    }
  },
  "cells": [
    {
      "cell_type": "markdown",
      "metadata": {
        "id": "view-in-github",
        "colab_type": "text"
      },
      "source": [
        "<a href=\"https://colab.research.google.com/github/iamangithubproject/python-with-colab/blob/main/Lab060925.ipynb\" target=\"_parent\"><img src=\"https://colab.research.google.com/assets/colab-badge.svg\" alt=\"Open In Colab\"/></a>"
      ]
    },
    {
      "cell_type": "markdown",
      "source": [],
      "metadata": {
        "id": "oGD1FqVsoNGK"
      }
    },
    {
      "cell_type": "markdown",
      "source": [
        "06/09/2025\n",
        "need to solve-\n",
        " 1. Take a string type variable like org = “indian institute of technology patna\", show outputs of title() and capitalize().\n",
        "\n",
        "2. Given item price p and quantity q, compute bill. If a discount value d applies, compute final bill to pay.  print the average price per item.\n",
        "\n",
        "3. Swap Two Numbers Without Using Third Variable. (use arithmetic operators)\n",
        "\n",
        "4. Wallet Balance Updates: Start with balance = 0, add stipend S, pay mess bill M, you will get cashback C, and local travel cost T. Output the total expenditure and savings. Also, print the balance after each step.\n",
        "\n",
        "5. Student Exam Journey: A student taking a course this semester. His/Her final grade depends on four components: Quiz 1, Quiz 2, Mid-Sem Exam, and End-Sem Exam. The student starts with a score = 0, and gradually adds marks from each component. But each component has a weight (not all exams count equally). So, we rescale the total to 100 marks. Weight Distribution: Quiz 1 → 10%, Quiz 2 → 10%, Mid-Sem → 30% , End-Sem → 50%. Given marks for each component. Compute the final marks.\n",
        "\n",
        "\n"
      ],
      "metadata": {
        "id": "FvGKd0oXvMEz"
      }
    },
    {
      "cell_type": "code",
      "source": [
        "org=\"indian institute of technology patna\"\n",
        "print(org.title())\n",
        "print(org.capitalize())"
      ],
      "metadata": {
        "id": "Rdsi3oRbwYAs",
        "outputId": "16a28e86-5f30-496d-9fe4-3aad1aedae25",
        "colab": {
          "base_uri": "https://localhost:8080/"
        }
      },
      "execution_count": 2,
      "outputs": [
        {
          "output_type": "stream",
          "name": "stdout",
          "text": [
            "Indian Institute Of Technology Patna\n",
            "Indian institute of technology patna\n"
          ]
        }
      ]
    },
    {
      "cell_type": "code",
      "source": [
        "p = 100  # price\n",
        "q = 4    # quantity\n",
        "d = 20   # discount\n",
        "\n",
        "# compute Bill\n",
        "total_amount = p*q\n",
        "# after discount\n",
        "discount_amount = total_amount - d\n",
        "\n",
        "# Avarage Price per item after Discount\n",
        "avg_price = discount_amount / q   # In case of Division, You get Float NO.\n",
        "\n",
        "print(total_amount)\n",
        "print(discount_amount)\n",
        "print(avg_price)\n"
      ],
      "metadata": {
        "colab": {
          "base_uri": "https://localhost:8080/"
        },
        "id": "HALhLAV7vVAD",
        "outputId": "2dd7cd2d-ede3-41ad-dd7a-46e57538766d"
      },
      "execution_count": 3,
      "outputs": [
        {
          "output_type": "stream",
          "name": "stdout",
          "text": [
            "400\n",
            "380\n",
            "95.0\n"
          ]
        }
      ]
    },
    {
      "cell_type": "code",
      "source": [
        "a = 10\n",
        "b = 5\n",
        "a,b=b,a\n",
        "print(a,b)"
      ],
      "metadata": {
        "id": "_KtxbPssyAFC",
        "outputId": "d817a267-49ff-420b-fdb5-ccab106fedc2",
        "colab": {
          "base_uri": "https://localhost:8080/"
        }
      },
      "execution_count": 6,
      "outputs": [
        {
          "output_type": "stream",
          "name": "stdout",
          "text": [
            "5 10\n"
          ]
        }
      ]
    }
  ]
}