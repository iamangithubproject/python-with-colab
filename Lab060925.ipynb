{
  "nbformat": 4,
  "nbformat_minor": 0,
  "metadata": {
    "colab": {
      "provenance": [],
      "toc_visible": true,
      "authorship_tag": "ABX9TyMpTE60hehrwjBSrv0VPyTe",
      "include_colab_link": true
    },
    "kernelspec": {
      "name": "python3",
      "display_name": "Python 3"
    },
    "language_info": {
      "name": "python"
    }
  },
  "cells": [
    {
      "cell_type": "markdown",
      "metadata": {
        "id": "view-in-github",
        "colab_type": "text"
      },
      "source": [
        "<a href=\"https://colab.research.google.com/github/iamangithubproject/python-with-colab/blob/main/Lab060925.ipynb\" target=\"_parent\"><img src=\"https://colab.research.google.com/assets/colab-badge.svg\" alt=\"Open In Colab\"/></a>"
      ]
    },
    {
      "cell_type": "markdown",
      "source": [],
      "metadata": {
        "id": "oGD1FqVsoNGK"
      }
    },
    {
      "cell_type": "markdown",
      "source": [
        "06/09/2025\n",
        "need to solve- 1. Take a string type variable like org = “indian institute of technology patna\", show outputs of title() and capitalize().\n",
        "\n",
        "2. Given item price p and quantity q, compute bill. If a discount value d applies, compute final bill to pay.  print the average price per item.\n",
        "\n",
        "3. Swap Two Numbers Without Using Third Variable. (use arithmetic operators)\n",
        "\n",
        "4. Wallet Balance Updates: Start with balance = 0, add stipend S, pay mess bill M, you will get cashback C, and local travel cost T. Output the total expenditure and savings. Also, print the balance after each step.\n",
        "\n",
        "5. Student Exam Journey: A student taking a course this semester. His/Her final grade depends on four components: Quiz 1, Quiz 2, Mid-Sem Exam, and End-Sem Exam. The student starts with a score = 0, and gradually adds marks from each component. But each component has a weight (not all exams count equally). So, we rescale the total to 100 marks. Weight Distribution: Quiz 1 → 10%, Quiz 2 → 10%, Mid-Sem → 30% , End-Sem → 50%. Given marks for each component. Compute the final marks.\n",
        "\n",
        "\n"
      ],
      "metadata": {
        "id": "FvGKd0oXvMEz"
      }
    },
    {
      "cell_type": "code",
      "source": [],
      "metadata": {
        "id": "HALhLAV7vVAD"
      },
      "execution_count": null,
      "outputs": []
    }
  ]
}