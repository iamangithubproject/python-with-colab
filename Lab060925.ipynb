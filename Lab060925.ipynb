{
  "nbformat": 4,
  "nbformat_minor": 0,
  "metadata": {
    "colab": {
      "provenance": [],
      "authorship_tag": "ABX9TyNTL0ytEpbxmsCwtW4t6l93",
      "include_colab_link": true
    },
    "kernelspec": {
      "name": "python3",
      "display_name": "Python 3"
    },
    "language_info": {
      "name": "python"
    }
  },
  "cells": [
    {
      "cell_type": "markdown",
      "metadata": {
        "id": "view-in-github",
        "colab_type": "text"
      },
      "source": [
        "<a href=\"https://colab.research.google.com/github/iamangithubproject/python-with-colab/blob/main/Lab060925.ipynb\" target=\"_parent\"><img src=\"https://colab.research.google.com/assets/colab-badge.svg\" alt=\"Open In Colab\"/></a>"
      ]
    },
    {
      "cell_type": "markdown",
      "source": [],
      "metadata": {
        "id": "oGD1FqVsoNGK"
      }
    },
    {
      "cell_type": "markdown",
      "source": [
        "06/09/2025\n",
        "need to solve-\n",
        " 1. Take a string type variable like org = “indian institute of technology patna\", show outputs of title() and capitalize().\n",
        "\n",
        "2. Given item price p and quantity q, compute bill. If a discount value d applies, compute final bill to pay.  print the average price per item.\n",
        "\n",
        "3. Swap Two Numbers Without Using Third Variable. (use arithmetic operators)\n",
        "\n",
        "4. Wallet Balance Updates: Start with balance = 0, add stipend S, pay mess bill M, you will get cashback C, and local travel cost T. Output the total expenditure and savings. Also, print the balance after each step.\n",
        "\n",
        "5. Student Exam Journey: A student taking a course this semester. His/Her final grade depends on four components: Quiz 1, Quiz 2, Mid-Sem Exam, and End-Sem Exam. The student starts with a score = 0, and gradually adds marks from each component. But each component has a weight (not all exams count equally). So, we rescale the total to 100 marks. Weight Distribution: Quiz 1 → 10%, Quiz 2 → 10%, Mid-Sem → 30% , End-Sem → 50%. Given marks for each component. Compute the final marks.\n",
        "\n",
        "\n"
      ],
      "metadata": {
        "id": "FvGKd0oXvMEz"
      }
    },
    {
      "cell_type": "code",
      "source": [
        "org=\"indian institute of technology patna\"\n",
        "print(org.title())\n",
        "print(org.capitalize())"
      ],
      "metadata": {
        "id": "Rdsi3oRbwYAs",
        "outputId": "16a28e86-5f30-496d-9fe4-3aad1aedae25",
        "colab": {
          "base_uri": "https://localhost:8080/"
        }
      },
      "execution_count": null,
      "outputs": [
        {
          "output_type": "stream",
          "name": "stdout",
          "text": [
            "Indian Institute Of Technology Patna\n",
            "Indian institute of technology patna\n"
          ]
        }
      ]
    },
    {
      "cell_type": "code",
      "source": [
        "p = 100  # price\n",
        "q = 4    # quantity\n",
        "d = 20   # discount\n",
        "\n",
        "# compute Bill\n",
        "total_amount = p*q\n",
        "# after discount\n",
        "discount_amount = total_amount - d\n",
        "\n",
        "# Avarage Price per item after Discount\n",
        "avg_price = discount_amount / q   # In case of Division, You get Float NO.\n",
        "\n",
        "print(total_amount)\n",
        "print(discount_amount)\n",
        "print(avg_price)\n"
      ],
      "metadata": {
        "colab": {
          "base_uri": "https://localhost:8080/"
        },
        "id": "HALhLAV7vVAD",
        "outputId": "2dd7cd2d-ede3-41ad-dd7a-46e57538766d"
      },
      "execution_count": null,
      "outputs": [
        {
          "output_type": "stream",
          "name": "stdout",
          "text": [
            "400\n",
            "380\n",
            "95.0\n"
          ]
        }
      ]
    },
    {
      "cell_type": "code",
      "source": [
        "a = 10\n",
        "b = 5\n",
        "a,b=b,a\n",
        "print(a,b)"
      ],
      "metadata": {
        "id": "_KtxbPssyAFC",
        "outputId": "d817a267-49ff-420b-fdb5-ccab106fedc2",
        "colab": {
          "base_uri": "https://localhost:8080/"
        }
      },
      "execution_count": null,
      "outputs": [
        {
          "output_type": "stream",
          "name": "stdout",
          "text": [
            "5 10\n"
          ]
        }
      ]
    },
    {
      "cell_type": "code",
      "source": [
        "a  = 10\n",
        "b = 5\n",
        "print(a,b)\n",
        "a = a+b #15\n",
        "print(a)\n",
        "b = a-b\n",
        "print(b)\n",
        "a = a-b\n",
        "print(a)\n",
        "print(a,b)"
      ],
      "metadata": {
        "id": "vHqM-7eBzpZS",
        "outputId": "c78412dd-aab2-41ef-e400-4d34b82516c5",
        "colab": {
          "base_uri": "https://localhost:8080/"
        }
      },
      "execution_count": 13,
      "outputs": [
        {
          "output_type": "stream",
          "name": "stdout",
          "text": [
            "10 5\n",
            "15\n",
            "10\n",
            "5\n",
            "5 10\n"
          ]
        }
      ]
    },
    {
      "cell_type": "code",
      "source": [
        "balance = 0\n",
        "s = 5000 # stipend\n",
        "m = 1200 # mess bill\n",
        "c = 500  # cashback\n",
        "T = 1000 # travel\n",
        "\n",
        "print(balance,s,m,c,T)\n",
        "\n",
        "# step 1 Add Stipend\n",
        "balance += s\n",
        "print(balance)\n",
        "\n",
        "# Step 2: Pay Mess bill\n",
        "balance -= m\n",
        "print(balance)\n",
        "\n",
        "# step 3: cashback receive\n",
        "balance += c\n",
        "print(balance)\n",
        "\n",
        "# step 4: pay travel bill\n",
        "\n",
        "balance -= T\n",
        "print(balance)\n",
        "\n",
        "\n",
        "total_expenditure = m + T - c  # mess + travel bill - cashback\n",
        "print(total_expenditure)\n",
        "\n",
        "saving = balance\n",
        "print(saving)\n"
      ],
      "metadata": {
        "id": "iqH2WjEY1Xd1",
        "outputId": "c131fbc3-a9c2-4ff0-92de-1546ce79a71a",
        "colab": {
          "base_uri": "https://localhost:8080/"
        }
      },
      "execution_count": 14,
      "outputs": [
        {
          "output_type": "stream",
          "name": "stdout",
          "text": [
            "0 5000 1200 500 1000\n",
            "5000\n",
            "3800\n",
            "4300\n",
            "3300\n",
            "1700\n",
            "3300\n"
          ]
        }
      ]
    },
    {
      "cell_type": "code",
      "source": [
        "# Mark Obtained (Assume example/ take from user)\n",
        "q1 = 8    # out of 10\n",
        "q2 = 7    # out of 10\n",
        "mid = 65  # out of 100\n",
        "end = 120 # out of 150\n",
        "\n",
        "w1, w2, w3, w4 = 10, 10, 30, 50 #waight\n",
        "\n",
        "# Normalized each component to 100\n",
        "q1_norm = (q1 / 10) *100\n",
        "print(\"quiz1 marks obtaion out of 10 =\",q1_norm)\n",
        "q2_norm = (q2 / 10) *100\n",
        "print(\"quiz2 marks obtaion out of 10 =\",q2_norm)\n",
        "mid_norm = (mid / 100) * 100\n",
        "print(\"mid sem marks obtain out of 100 =\",mid_norm)\n",
        "end_norm = (end / 150) * 100\n",
        "print(\"end sem marks obtaion out of 150 =\",end_norm)\n",
        "\n",
        "# Final Mark\n",
        "final_mark = (q1_norm * w1/100) + (q2_norm * w2/100) + (mid_norm * w3/100) + (end_norm * w4/100)\n",
        "print(\"final marks  =\",final_mark)"
      ],
      "metadata": {
        "id": "B42HLMWy39RV",
        "outputId": "2e17f93c-4c21-4123-c3f3-fe0122867f06",
        "colab": {
          "base_uri": "https://localhost:8080/"
        }
      },
      "execution_count": 24,
      "outputs": [
        {
          "output_type": "stream",
          "name": "stdout",
          "text": [
            "quiz1 marks obtaion out of 10 = 80.0\n",
            "quiz2 marks obtaion out of 10 = 70.0\n",
            "mid sem marks obtain out of 100 = 65.0\n",
            "end sem marks obtaion out of 150 = 80.0\n",
            "final marks  = 74.5\n"
          ]
        }
      ]
    },
    {
      "cell_type": "markdown",
      "source": [
        "\n",
        "\n",
        "1. Swap Two Numbers Without Using Third Variable. (use Bitwise operators)\n",
        "2. Check given integer is odd. (use Bitwise operators)\n",
        "3. Find whether a given number is power of 2.  (Use bitwise operators)\n",
        "4. Admission Cutoff Check: Given the student's exam score and the exam's cutoff, print whether the student cleared the exam or not.\n",
        "5. Given a value x and thresholds low, high, print results of: x >= low, x <= high, x > high, x < low, x == low, x != high."
      ],
      "metadata": {
        "id": "csMOclmu8iLN"
      }
    },
    {
      "cell_type": "code",
      "source": [
        "# xor --> same-same 0\n",
        "a = 5   #101\n",
        "b = 7  #111\n",
        "a = a^b   #010->2\n",
        "print(a)\n",
        "b = a^b  #101->5\n",
        "print(b)\n",
        "a = a^b   #111-> 7\n",
        "print(a)\n",
        "print(\"no. is swaped a,b =\", a,b)\n"
      ],
      "metadata": {
        "id": "AR7rsZyG8lgO",
        "outputId": "737b77f7-673f-4fe8-96c6-e6292c6ae127",
        "colab": {
          "base_uri": "https://localhost:8080/"
        }
      },
      "execution_count": 32,
      "outputs": [
        {
          "output_type": "stream",
          "name": "stdout",
          "text": [
            "2\n",
            "5\n",
            "7\n",
            "no. is swaped a,b = 7 5\n"
          ]
        }
      ]
    },
    {
      "cell_type": "code",
      "source": [
        "num = 5\n",
        "if num & 1:             #101 & 001 =001->1\n",
        "  print(num , \"is odd\")\n",
        "else:\n",
        "  print(num,\"is even\")"
      ],
      "metadata": {
        "id": "U6MPTRqqCKls",
        "outputId": "ef6209cd-3fad-4d2f-bfe6-f299938ea72f",
        "colab": {
          "base_uri": "https://localhost:8080/"
        }
      },
      "execution_count": 41,
      "outputs": [
        {
          "output_type": "stream",
          "name": "stdout",
          "text": [
            "5 is odd\n"
          ]
        }
      ]
    },
    {
      "cell_type": "code",
      "source": [
        "# n > 0 and (n &(n-1)) == 0\n",
        "\n",
        "num = 5\n",
        "\n",
        "\n",
        "\n",
        "if num > 0 and (num & (num-1)) == 0:   # 100 & (100 - 001) == 0 --> 011 & 100 --> 000\n",
        "  print(num, \"is a power of 2\")        # 101 & (101 - 001) --> 101 & 100 --> 100 != 0\n",
        "else:\n",
        "  print(num, \"is not a power of 2\")"
      ],
      "metadata": {
        "id": "hm58a4f9Df_q",
        "outputId": "483512f9-aa7c-4118-ba59-ace5e3f7b5f1",
        "colab": {
          "base_uri": "https://localhost:8080/"
        }
      },
      "execution_count": 44,
      "outputs": [
        {
          "output_type": "stream",
          "name": "stdout",
          "text": [
            "5 is not a power of 2\n"
          ]
        }
      ]
    },
    {
      "cell_type": "code",
      "source": [
        "score = int(50)\n",
        "cutoff = 40\n",
        "\n",
        "if score >= cutoff:\n",
        "  print(\"Pass\")\n",
        "else:\n",
        "  print(\"Fail\")"
      ],
      "metadata": {
        "id": "h7BjqrAlEcK8",
        "outputId": "7b0728d7-9321-463c-a1c7-4eb1525962cf",
        "colab": {
          "base_uri": "https://localhost:8080/"
        }
      },
      "execution_count": 49,
      "outputs": [
        {
          "output_type": "stream",
          "name": "stdout",
          "text": [
            "Pass\n"
          ]
        }
      ]
    },
    {
      "cell_type": "code",
      "source": [
        "x = 10\n",
        "low = 5\n",
        "high = 15\n",
        "\n",
        "print(x >= low)\n",
        "print(x <= high)\n",
        "print(x > high)\n",
        "print(x < low)\n",
        "print(x == low)\n",
        "print(x != high)"
      ],
      "metadata": {
        "id": "2rP2bMN2FAZ-",
        "outputId": "4d715fb8-1c82-41db-8277-477b94e7ff93",
        "colab": {
          "base_uri": "https://localhost:8080/"
        }
      },
      "execution_count": 50,
      "outputs": [
        {
          "output_type": "stream",
          "name": "stdout",
          "text": [
            "True\n",
            "True\n",
            "False\n",
            "False\n",
            "False\n",
            "True\n"
          ]
        }
      ]
    }
  ]
}