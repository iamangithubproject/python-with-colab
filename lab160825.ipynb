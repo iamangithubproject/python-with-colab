{
  "cells": [
    {
      "cell_type": "markdown",
      "metadata": {
        "id": "view-in-github",
        "colab_type": "text"
      },
      "source": [
        "<a href=\"https://colab.research.google.com/github/iamangithubproject/python-with-colab/blob/main/lab160825.ipynb\" target=\"_parent\"><img src=\"https://colab.research.google.com/assets/colab-badge.svg\" alt=\"Open In Colab\"/></a>"
      ]
    },
    {
      "cell_type": "code",
      "execution_count": null,
      "metadata": {
        "colab": {
          "base_uri": "https://localhost:8080/"
        },
        "id": "8ZjwBSEL1e4y",
        "outputId": "223097d5-0ee2-4703-eb3e-f25ecb981388"
      },
      "outputs": [
        {
          "data": {
            "text/plain": [
              "4"
            ]
          },
          "execution_count": 7,
          "metadata": {},
          "output_type": "execute_result"
        }
      ],
      "source": [
        "1+3"
      ]
    },
    {
      "cell_type": "code",
      "execution_count": null,
      "metadata": {
        "colab": {
          "base_uri": "https://localhost:8080/"
        },
        "id": "Z-q-9-C54R2h",
        "outputId": "8c7a2b06-b764-45cb-b1d1-88600323c361"
      },
      "outputs": [
        {
          "name": "stdout",
          "output_type": "stream",
          "text": [
            "1+2\n"
          ]
        }
      ],
      "source": [
        "print(\"1+2\")\n"
      ]
    },
    {
      "cell_type": "code",
      "execution_count": null,
      "metadata": {
        "colab": {
          "base_uri": "https://localhost:8080/"
        },
        "id": "w74n3edkAYoS",
        "outputId": "296d45f6-c0de-4dd6-b147-dad64490ec22"
      },
      "outputs": [
        {
          "name": "stdout",
          "output_type": "stream",
          "text": [
            "The value of pi is approximately  3.14\n"
          ]
        }
      ],
      "source": [
        "pi = 3.14159\n",
        "print(f\"The value of pi is approximately {pi: .2f}\")"
      ]
    },
    {
      "cell_type": "code",
      "execution_count": null,
      "metadata": {
        "colab": {
          "base_uri": "https://localhost:8080/"
        },
        "id": "0Db5LpALBp-y",
        "outputId": "6313afb8-1d6c-434d-b0fa-57223ab64cab"
      },
      "outputs": [
        {
          "name": "stdout",
          "output_type": "stream",
          "text": [
            "The value of pi is approximately  3.142\n"
          ]
        }
      ],
      "source": [
        "pi = 3.14159\n",
        "print(f\"The value of pi is approximately {pi: .3f}\")"
      ]
    },
    {
      "cell_type": "code",
      "execution_count": null,
      "metadata": {
        "id": "jkKInV_aVwzx"
      },
      "outputs": [],
      "source": []
    },
    {
      "cell_type": "markdown",
      "metadata": {
        "id": "fd0uNgcpTm4D"
      },
      "source": [
        "# **16 Aug 2025**"
      ]
    },
    {
      "cell_type": "markdown",
      "source": [
        "# 30082025"
      ],
      "metadata": {
        "id": "eDMCO5RA7zwC"
      }
    },
    {
      "cell_type": "markdown",
      "source": [],
      "metadata": {
        "id": "LotF6Cmo8F2x"
      }
    },
    {
      "cell_type": "markdown",
      "source": [
        "30/08/2025"
      ],
      "metadata": {
        "id": "ZJHcRMHCDFGb"
      }
    },
    {
      "cell_type": "code",
      "execution_count": null,
      "metadata": {
        "id": "MOhzjhpUEgs8",
        "colab": {
          "base_uri": "https://localhost:8080/"
        },
        "outputId": "dfe4b542-9d83-4776-8960-c98d33a35824"
      },
      "outputs": [
        {
          "output_type": "stream",
          "name": "stdout",
          "text": [
            "8.2\n"
          ]
        }
      ],
      "source": [
        "print(5+3.2)"
      ]
    },
    {
      "cell_type": "code",
      "source": [
        "print(True+True)\n"
      ],
      "metadata": {
        "colab": {
          "base_uri": "https://localhost:8080/"
        },
        "id": "qAn51czWDUNk",
        "outputId": "729279c1-0add-4341-a0ed-dafd95a58d1f"
      },
      "execution_count": null,
      "outputs": [
        {
          "output_type": "stream",
          "name": "stdout",
          "text": [
            "2\n"
          ]
        }
      ]
    },
    {
      "cell_type": "code",
      "source": [
        "print(True+10)"
      ],
      "metadata": {
        "colab": {
          "base_uri": "https://localhost:8080/"
        },
        "id": "TlWWzkPrDdAg",
        "outputId": "609492b2-ae69-48ec-ace8-9b5c7cd7cad8"
      },
      "execution_count": null,
      "outputs": [
        {
          "output_type": "stream",
          "name": "stdout",
          "text": [
            "11\n"
          ]
        }
      ]
    },
    {
      "cell_type": "code",
      "source": [
        "print(1+2+3.0)"
      ],
      "metadata": {
        "colab": {
          "base_uri": "https://localhost:8080/"
        },
        "id": "qPVsQOpvDjsr",
        "outputId": "0b934bb0-915b-4969-98b7-94e807297f6b"
      },
      "execution_count": null,
      "outputs": [
        {
          "output_type": "stream",
          "name": "stdout",
          "text": [
            "6.0\n"
          ]
        }
      ]
    },
    {
      "cell_type": "code",
      "source": [
        "print(\"3\"+\"5\")"
      ],
      "metadata": {
        "colab": {
          "base_uri": "https://localhost:8080/"
        },
        "id": "IkyIwPd8Dpmo",
        "outputId": "cb32b5cf-3f43-4f25-a977-25fd02f7fc19"
      },
      "execution_count": null,
      "outputs": [
        {
          "output_type": "stream",
          "name": "stdout",
          "text": [
            "35\n"
          ]
        }
      ]
    },
    {
      "cell_type": "code",
      "source": [
        "print(5+int(\"3\"))"
      ],
      "metadata": {
        "colab": {
          "base_uri": "https://localhost:8080/"
        },
        "id": "fm_n9sz4DxW7",
        "outputId": "c8a359e5-e87e-4a74-eb16-26c3247dfcd9"
      },
      "execution_count": null,
      "outputs": [
        {
          "output_type": "stream",
          "name": "stdout",
          "text": [
            "8\n"
          ]
        }
      ]
    },
    {
      "cell_type": "code",
      "source": [
        "print(str(5)+\"3\")"
      ],
      "metadata": {
        "colab": {
          "base_uri": "https://localhost:8080/"
        },
        "id": "s-Qw-NG5D-oj",
        "outputId": "c2a9f4a3-d296-4fb2-db09-b9b4f8d3edf2"
      },
      "execution_count": null,
      "outputs": [
        {
          "output_type": "stream",
          "name": "stdout",
          "text": [
            "53\n"
          ]
        }
      ]
    },
    {
      "cell_type": "code",
      "source": [
        "print(\"Hello\"+3)"
      ],
      "metadata": {
        "colab": {
          "base_uri": "https://localhost:8080/",
          "height": 141
        },
        "id": "9mykT5aXEG8o",
        "outputId": "145852b6-2b6a-486e-e62a-ee848538f654"
      },
      "execution_count": null,
      "outputs": [
        {
          "output_type": "error",
          "ename": "TypeError",
          "evalue": "can only concatenate str (not \"int\") to str",
          "traceback": [
            "\u001b[0;31m---------------------------------------------------------------------------\u001b[0m",
            "\u001b[0;31mTypeError\u001b[0m                                 Traceback (most recent call last)",
            "\u001b[0;32m/tmp/ipython-input-3012218684.py\u001b[0m in \u001b[0;36m<cell line: 0>\u001b[0;34m()\u001b[0m\n\u001b[0;32m----> 1\u001b[0;31m \u001b[0mprint\u001b[0m\u001b[0;34m(\u001b[0m\u001b[0;34m\"Hello\"\u001b[0m\u001b[0;34m+\u001b[0m\u001b[0;36m3\u001b[0m\u001b[0;34m)\u001b[0m\u001b[0;34m\u001b[0m\u001b[0;34m\u001b[0m\u001b[0m\n\u001b[0m",
            "\u001b[0;31mTypeError\u001b[0m: can only concatenate str (not \"int\") to str"
          ]
        }
      ]
    },
    {
      "cell_type": "code",
      "source": [
        "print(2+3+4*5)"
      ],
      "metadata": {
        "colab": {
          "base_uri": "https://localhost:8080/"
        },
        "id": "MDoevjBdEP8T",
        "outputId": "f16354c9-df7e-44a4-c39e-95060156e57d"
      },
      "execution_count": null,
      "outputs": [
        {
          "output_type": "stream",
          "name": "stdout",
          "text": [
            "25\n"
          ]
        }
      ]
    },
    {
      "cell_type": "code",
      "source": [
        "print(0.1+0.2==0.3)"
      ],
      "metadata": {
        "colab": {
          "base_uri": "https://localhost:8080/"
        },
        "id": "FzWAaT5gEZx7",
        "outputId": "91fc008c-f47f-4d35-f7f7-71f49d94f684"
      },
      "execution_count": null,
      "outputs": [
        {
          "output_type": "stream",
          "name": "stdout",
          "text": [
            "False\n"
          ]
        }
      ]
    },
    {
      "cell_type": "markdown",
      "metadata": {
        "id": "NsfSRLPMEiLg"
      },
      "source": [
        "# New Section"
      ]
    },
    {
      "cell_type": "code",
      "execution_count": null,
      "metadata": {
        "colab": {
          "base_uri": "https://localhost:8080/"
        },
        "id": "J9EOqFB5FNCE",
        "outputId": "4dad82d0-c7a2-4e80-b7c8-7d5365c27d13"
      },
      "outputs": [
        {
          "name": "stdout",
          "output_type": "stream",
          "text": [
            "The value of pi is approximately  3.14\n"
          ]
        }
      ],
      "source": [
        "pi = 3.14159\n",
        "print(f\"The value of pi is approximately {pi: .2f}\")"
      ]
    },
    {
      "cell_type": "markdown",
      "metadata": {
        "id": "hmMx4Xp1V7bc"
      },
      "source": [
        "DATA TYPE\n"
      ]
    },
    {
      "cell_type": "code",
      "execution_count": null,
      "metadata": {
        "colab": {
          "base_uri": "https://localhost:8080/"
        },
        "id": "By0YWCHqV04q",
        "outputId": "36e747c1-50d2-4c6a-c862-23a66dd038ed"
      },
      "outputs": [
        {
          "name": "stdout",
          "output_type": "stream",
          "text": [
            "5 <class 'int'>\n",
            "0.5 <class 'float'>\n",
            "5 <class 'str'>\n",
            "5 <class 'str'>\n",
            "5j <class 'complex'>\n",
            "True <class 'bool'>\n",
            "False <class 'bool'>\n",
            "True <class 'str'>\n",
            "-1 <class 'int'>\n",
            "0 <class 'int'>\n",
            "-3.5 <class 'float'>\n",
            "1e-05 <class 'float'>\n"
          ]
        }
      ],
      "source": [
        "x1 = 5\n",
        "print(x1, type(x1))\n",
        "x2 = 0.5\n",
        "print(x2, type(x2))\n",
        "x3 = '5'\n",
        "print(x3, type(x3))\n",
        "\n",
        "x4 = \"5\"\n",
        "print(x4, type(x4))\n",
        "\n",
        "x5 = 5j\n",
        "print(x5, type(x5))\n",
        "\n",
        "x6 = True\n",
        "print(x6, type(x6))\n",
        "\n",
        "x7 = False\n",
        "print(x7, type(x7))\n",
        "\n",
        "x8 = 'True'\n",
        "print(x8, type(x8))\n",
        "\n",
        "x9 = -1\n",
        "print(x9, type(x9))\n",
        "\n",
        "x10 = 0\n",
        "print(x10, type(x10))\n",
        "\n",
        "x11 = -3.5\n",
        "print(x11, type(x11))\n",
        "\n",
        "x12 = 1e-5\n",
        "print(x12, type(x12))\n",
        "\n"
      ]
    },
    {
      "cell_type": "markdown",
      "source": [],
      "metadata": {
        "id": "CW5Yd1j28LoE"
      }
    },
    {
      "cell_type": "code",
      "execution_count": null,
      "metadata": {
        "colab": {
          "base_uri": "https://localhost:8080/"
        },
        "id": "Z53RiR7-E-uk",
        "outputId": "6d42ca08-f3b5-46b5-a221-8a5ec12b498b"
      },
      "outputs": [
        {
          "name": "stdout",
          "output_type": "stream",
          "text": [
            "5 <class 'str'>\n"
          ]
        }
      ],
      "source": [
        "a=str(5)\n",
        "print(a, type(a))"
      ]
    },
    {
      "cell_type": "markdown",
      "metadata": {
        "id": "6rY_zOd6Hdq4"
      },
      "source": [
        "# 17/8/**25**"
      ]
    },
    {
      "cell_type": "code",
      "execution_count": null,
      "metadata": {
        "colab": {
          "base_uri": "https://localhost:8080/"
        },
        "id": "AhHMSEipGPA3",
        "outputId": "a912e148-cdca-4b63-f23c-aae276ba646b"
      },
      "outputs": [
        {
          "name": "stdout",
          "output_type": "stream",
          "text": [
            "True <class 'bool'>\n",
            "(10+0j) <class 'complex'>\n",
            "['a'] <class 'list'>\n",
            "a <class 'str'>\n",
            "range(0, 10) <class 'range'>\n"
          ]
        }
      ],
      "source": [
        "a1=bool(5)\n",
        "print(a1, type(a1))\n",
        "\n",
        "a2=complex(10)\n",
        "print(a2, type(a2))\n",
        "\n",
        "a3=[\"a\"]\n",
        "print(a3, type(a3))\n",
        "a4=(\"a\")\n",
        "print(a4, type(a4))\n",
        "a5=range(10)\n",
        "print(a5, type(a5))"
      ]
    },
    {
      "cell_type": "code",
      "execution_count": null,
      "metadata": {
        "colab": {
          "base_uri": "https://localhost:8080/",
          "height": 211
        },
        "id": "kRO94hdSH-EK",
        "outputId": "07e34ff5-3a90-4b8b-f836-63c752e550a8"
      },
      "outputs": [
        {
          "output_type": "stream",
          "name": "stdout",
          "text": [
            "5 2\n"
          ]
        },
        {
          "output_type": "error",
          "ename": "ValueError",
          "evalue": "invalid literal for int() with base 10: 'a'",
          "traceback": [
            "\u001b[0;31m---------------------------------------------------------------------------\u001b[0m",
            "\u001b[0;31mValueError\u001b[0m                                Traceback (most recent call last)",
            "\u001b[0;32m/tmp/ipython-input-1943541151.py\u001b[0m in \u001b[0;36m<cell line: 0>\u001b[0;34m()\u001b[0m\n\u001b[1;32m      3\u001b[0m \u001b[0ma\u001b[0m\u001b[0;34m,\u001b[0m\u001b[0mb\u001b[0m\u001b[0;34m=\u001b[0m\u001b[0mb\u001b[0m\u001b[0;34m,\u001b[0m\u001b[0ma\u001b[0m\u001b[0;34m\u001b[0m\u001b[0;34m\u001b[0m\u001b[0m\n\u001b[1;32m      4\u001b[0m \u001b[0mprint\u001b[0m\u001b[0;34m(\u001b[0m\u001b[0ma\u001b[0m\u001b[0;34m,\u001b[0m\u001b[0mb\u001b[0m\u001b[0;34m)\u001b[0m\u001b[0;34m\u001b[0m\u001b[0;34m\u001b[0m\u001b[0m\n\u001b[0;32m----> 5\u001b[0;31m \u001b[0mc\u001b[0m\u001b[0;34m=\u001b[0m\u001b[0mint\u001b[0m\u001b[0;34m(\u001b[0m\u001b[0;34m\"a\"\u001b[0m\u001b[0;34m)\u001b[0m\u001b[0;34m\u001b[0m\u001b[0;34m\u001b[0m\u001b[0m\n\u001b[0m\u001b[1;32m      6\u001b[0m \u001b[0mprint\u001b[0m\u001b[0;34m(\u001b[0m\u001b[0mc\u001b[0m\u001b[0;34m)\u001b[0m\u001b[0;34m\u001b[0m\u001b[0;34m\u001b[0m\u001b[0m\n",
            "\u001b[0;31mValueError\u001b[0m: invalid literal for int() with base 10: 'a'"
          ]
        }
      ],
      "source": [
        "a=2\n",
        "b=5\n",
        "a,b=b,a\n",
        "print(a,b)\n",
        "c=int(\"a\")\n",
        "print(c)"
      ]
    },
    {
      "cell_type": "code",
      "execution_count": null,
      "metadata": {
        "colab": {
          "background_save": true,
          "base_uri": "https://localhost:8080/"
        },
        "id": "6AHBhbRGOj9R",
        "outputId": "058a50d2-a6e1-494f-b494-238701e44098"
      },
      "outputs": [
        {
          "name": "stdout",
          "output_type": "stream",
          "text": [
            "a b c d e\n",
            "5\n",
            "abc\n",
            "cde\n",
            "a\n"
          ]
        }
      ],
      "source": [
        "f=\"abcde\"\n",
        "print(f[0],f[1],f[2], f[3], f[4])\n",
        "print(len(f))\n",
        "print(f[0:3])\n",
        "print(f[-3:len(f)])\n",
        "print(f[0])\n",
        "print(\"hello \"+ input(\"what is your name?\"))"
      ]
    },
    {
      "cell_type": "markdown",
      "source": [
        "### **23/08/2025**"
      ],
      "metadata": {
        "id": "s7cy79BX8RIM"
      }
    },
    {
      "cell_type": "markdown",
      "source": [
        "1. create a variable name and assign your full name as a string. print it.\n",
        "2. create two string variables first name and last name. concatenate them with a space in between and print the result\n",
        "3. given word = \"banana\", use a string method to count how many times \"a\" appears\n",
        "4. Given sentence = \"PYTHON is fun\", convert it to all lowercase letters.\n",
        "5. Convert only the first letter of quote = \" learing python is easy\" to uppercase.\n",
        "6. Convert the whole string \"hello world\" into uppercase\n",
        "7. Print the character at index 3 from the string \"Programming\"."
      ],
      "metadata": {
        "id": "jhxqMnKBCueO"
      }
    },
    {
      "cell_type": "code",
      "source": [
        "full_name = \"Aman Sahu\"\n",
        "print(full_name)"
      ],
      "metadata": {
        "colab": {
          "base_uri": "https://localhost:8080/"
        },
        "id": "N0MCNZ128gUG",
        "outputId": "da465bcf-744f-4346-b7e5-8fe0d087739b"
      },
      "execution_count": null,
      "outputs": [
        {
          "output_type": "stream",
          "name": "stdout",
          "text": [
            "Aman Sahu\n"
          ]
        }
      ]
    },
    {
      "cell_type": "code",
      "source": [
        "first_name = \"Aman\"\n",
        "last_name = \"Sahu\"\n",
        "print(first_name+\" \"+last_name)"
      ],
      "metadata": {
        "colab": {
          "base_uri": "https://localhost:8080/"
        },
        "id": "bMpo8tUq9KYQ",
        "outputId": "7647e44b-9ed4-406d-a068-447ca92c9a4d"
      },
      "execution_count": null,
      "outputs": [
        {
          "output_type": "stream",
          "name": "stdout",
          "text": [
            "Aman Sahu\n"
          ]
        }
      ]
    },
    {
      "cell_type": "code",
      "source": [
        "word = \"banana\"\n",
        "print(word.count('a'))"
      ],
      "metadata": {
        "colab": {
          "base_uri": "https://localhost:8080/"
        },
        "id": "LE-x8ycH9lxZ",
        "outputId": "185b294d-7fb5-4ea0-fa26-46f0a26863cb"
      },
      "execution_count": null,
      "outputs": [
        {
          "output_type": "stream",
          "name": "stdout",
          "text": [
            "3\n"
          ]
        }
      ]
    },
    {
      "cell_type": "code",
      "source": [
        "sentence = \"PYTHON is fun\"\n",
        "print(sentence.lower())"
      ],
      "metadata": {
        "colab": {
          "base_uri": "https://localhost:8080/"
        },
        "id": "DldHNiii96WI",
        "outputId": "41e7187e-cd97-4953-ff2c-6452a573dbf7"
      },
      "execution_count": null,
      "outputs": [
        {
          "output_type": "stream",
          "name": "stdout",
          "text": [
            "python is fun\n"
          ]
        }
      ]
    },
    {
      "cell_type": "code",
      "source": [
        "quote = \"learning python is easy\"\n",
        "print(quote.capitalize())"
      ],
      "metadata": {
        "colab": {
          "base_uri": "https://localhost:8080/"
        },
        "id": "d4tB_iEO-PVE",
        "outputId": "b7555926-7f45-47fb-ecbc-0581c7a464a2"
      },
      "execution_count": null,
      "outputs": [
        {
          "output_type": "stream",
          "name": "stdout",
          "text": [
            "Learning python is easy\n"
          ]
        }
      ]
    },
    {
      "cell_type": "code",
      "source": [
        "a = \"hello world\"\n",
        "print(a.upper())"
      ],
      "metadata": {
        "colab": {
          "base_uri": "https://localhost:8080/"
        },
        "id": "1fhXzgdB_RWN",
        "outputId": "38974198-062b-4f7c-d161-23e294e36ecb"
      },
      "execution_count": null,
      "outputs": [
        {
          "output_type": "stream",
          "name": "stdout",
          "text": [
            "HELLO WORLD\n"
          ]
        }
      ]
    },
    {
      "cell_type": "code",
      "source": [
        "c = \"Programming\"\n",
        "print(c[3])"
      ],
      "metadata": {
        "colab": {
          "base_uri": "https://localhost:8080/"
        },
        "id": "Vp8vFHWj_ixY",
        "outputId": "d67293dd-9526-445c-f3da-dfb5d74a0380"
      },
      "execution_count": null,
      "outputs": [
        {
          "output_type": "stream",
          "name": "stdout",
          "text": [
            "g\n"
          ]
        }
      ]
    },
    {
      "cell_type": "markdown",
      "source": [
        "# **assignment question**\n",
        "1. a, b, c = 1, 2, 3; Reassign so that a=3, b=1, c=2\n",
        "2. data = [10, 20, 30, 40, 50]; Assign first element to x, last element to y, middle ones to z\n",
        "3. x, y, z = 5, 10, 15;  Rotate so that x=10, y=15, z=5\n",
        "4. word = \"ABC\"; Assign 'A' to a, 'B' to b, 'C' to c\n",
        "5. Convert '45.6' into integer.\n",
        "6. marks = [95, 87, 76, 88, 92]; Store only the first and last marks, ignore others\n",
        "7. What happens if you cast: float(\"1.2e3\")\n",
        "8. student = ['Alice', 21, 'CSE'], print name, age and branch\n",
        "9. What will be the result of int(\"True\") and int(True)\n",
        "10. convert 5 into complex form"
      ],
      "metadata": {
        "id": "JRSdDlUbVXSw"
      }
    },
    {
      "cell_type": "code",
      "source": [
        "a,b,c = 1,2,3\n",
        "a,b,c= 3,1,2\n",
        "print(a,b,c)"
      ],
      "metadata": {
        "colab": {
          "base_uri": "https://localhost:8080/"
        },
        "id": "cczG4c6KVkJ7",
        "outputId": "7c68411d-315f-4daf-cba7-0641870fb55f"
      },
      "execution_count": null,
      "outputs": [
        {
          "output_type": "stream",
          "name": "stdout",
          "text": [
            "3 1 2\n"
          ]
        }
      ]
    },
    {
      "cell_type": "code",
      "source": [
        "#2. data = [10, 20, 30, 40, 50]; Assign first element to x, last element to y, middle ones to z\n",
        "data = [10, 20, 30, 40, 50]\n",
        "x = data[0]\n",
        "y = data[-1]\n",
        "z = data[1:-1]\n",
        "print(x,y,z)"
      ],
      "metadata": {
        "colab": {
          "base_uri": "https://localhost:8080/"
        },
        "id": "aamOfv_NWAVY",
        "outputId": "146fd1b0-1df1-4fa6-8329-ba2a83a91586"
      },
      "execution_count": null,
      "outputs": [
        {
          "output_type": "stream",
          "name": "stdout",
          "text": [
            "10 50 [20, 30, 40]\n"
          ]
        }
      ]
    },
    {
      "cell_type": "code",
      "source": [
        "#3. x, y, z = 5, 10, 15;  Rotate so that x=10, y=15, z=5\n",
        "x, y, z = 5, 10, 15\n",
        "x, y, z = y, z, x\n",
        "print(x,y,z)"
      ],
      "metadata": {
        "colab": {
          "base_uri": "https://localhost:8080/"
        },
        "id": "tsiuCaWQWn9f",
        "outputId": "075a06aa-6591-4a0e-87b4-ff6b3c463788"
      },
      "execution_count": null,
      "outputs": [
        {
          "output_type": "stream",
          "name": "stdout",
          "text": [
            "10 15 5\n"
          ]
        }
      ]
    },
    {
      "cell_type": "code",
      "source": [
        "#4. word = \"ABC\"; Assign 'A' to a, 'B' to b, 'C' to c\n",
        "word = \"ABC\"\n",
        "a = word[0]\n",
        "b = word[1]\n",
        "c = word[2]\n",
        "print(a,b,c)"
      ],
      "metadata": {
        "id": "xpF8hKV9Ww-S"
      },
      "execution_count": null,
      "outputs": []
    },
    {
      "cell_type": "code",
      "source": [
        "#5. Convert '45.6' into integer.\n",
        "a = '45.6'\n",
        "print(int(float(a)))\n"
      ],
      "metadata": {
        "colab": {
          "base_uri": "https://localhost:8080/"
        },
        "id": "HjCeIoIWXe_e",
        "outputId": "ac18e580-1a68-4279-c322-2765587823da"
      },
      "execution_count": null,
      "outputs": [
        {
          "output_type": "stream",
          "name": "stdout",
          "text": [
            "45\n"
          ]
        }
      ]
    },
    {
      "cell_type": "code",
      "source": [
        "#6. marks = [95, 87, 76, 88, 92]; Store only the first and last marks, ignore others\n",
        "marks = [95, 87, 76, 88, 92]\n",
        "first_mark = marks[0]\n",
        "last_mark = marks[-1]\n",
        "print(first_mark, last_mark)\n"
      ],
      "metadata": {
        "colab": {
          "base_uri": "https://localhost:8080/"
        },
        "id": "zmMBVJtNYOV-",
        "outputId": "ed8b876b-b712-4af2-bfaa-43cd4ce686c1"
      },
      "execution_count": null,
      "outputs": [
        {
          "output_type": "stream",
          "name": "stdout",
          "text": [
            "95 92\n"
          ]
        }
      ]
    },
    {
      "cell_type": "code",
      "source": [
        "#7. What happens if you cast: float(\"1.2e3\")\n",
        "print(float(\"1.2e3\"))"
      ],
      "metadata": {
        "colab": {
          "base_uri": "https://localhost:8080/"
        },
        "id": "Pu1kVKpQYeq_",
        "outputId": "700a1a49-88ff-4b2b-d89f-6362f23709e5"
      },
      "execution_count": null,
      "outputs": [
        {
          "output_type": "stream",
          "name": "stdout",
          "text": [
            "1200.0\n"
          ]
        }
      ]
    },
    {
      "cell_type": "code",
      "source": [
        "#8. student = ['Alice', 21, 'CSE'], print name, age and branch\n",
        "student = ['Alice', 21, 'CSE']\n",
        "print(student[0], student[1], student[2])"
      ],
      "metadata": {
        "colab": {
          "base_uri": "https://localhost:8080/"
        },
        "id": "jH7auhjiYxd2",
        "outputId": "28280677-0553-4f89-e49f-8b537415a539"
      },
      "execution_count": null,
      "outputs": [
        {
          "output_type": "stream",
          "name": "stdout",
          "text": [
            "Alice 21 CSE\n"
          ]
        }
      ]
    },
    {
      "cell_type": "code",
      "source": [
        "#9. What will be the result of int(\"True\") and int(True)\n",
        "print(int(\"True\"))\n",
        "print(int(True))"
      ],
      "metadata": {
        "colab": {
          "base_uri": "https://localhost:8080/",
          "height": 176
        },
        "id": "ZZx83QxnYyXR",
        "outputId": "e5d83d98-23b0-4fc1-e6f7-cd0c66660a63"
      },
      "execution_count": null,
      "outputs": [
        {
          "output_type": "error",
          "ename": "ValueError",
          "evalue": "invalid literal for int() with base 10: 'True'",
          "traceback": [
            "\u001b[0;31m---------------------------------------------------------------------------\u001b[0m",
            "\u001b[0;31mValueError\u001b[0m                                Traceback (most recent call last)",
            "\u001b[0;32m/tmp/ipython-input-2137671545.py\u001b[0m in \u001b[0;36m<cell line: 0>\u001b[0;34m()\u001b[0m\n\u001b[1;32m      1\u001b[0m \u001b[0;31m#9. What will be the result of int(\"True\") and int(True)\u001b[0m\u001b[0;34m\u001b[0m\u001b[0;34m\u001b[0m\u001b[0m\n\u001b[0;32m----> 2\u001b[0;31m \u001b[0mprint\u001b[0m\u001b[0;34m(\u001b[0m\u001b[0mint\u001b[0m\u001b[0;34m(\u001b[0m\u001b[0;34m\"True\"\u001b[0m\u001b[0;34m)\u001b[0m\u001b[0;34m)\u001b[0m\u001b[0;34m\u001b[0m\u001b[0;34m\u001b[0m\u001b[0m\n\u001b[0m\u001b[1;32m      3\u001b[0m \u001b[0mprint\u001b[0m\u001b[0;34m(\u001b[0m\u001b[0mint\u001b[0m\u001b[0;34m(\u001b[0m\u001b[0;32mTrue\u001b[0m\u001b[0;34m)\u001b[0m\u001b[0;34m)\u001b[0m\u001b[0;34m\u001b[0m\u001b[0;34m\u001b[0m\u001b[0m\n",
            "\u001b[0;31mValueError\u001b[0m: invalid literal for int() with base 10: 'True'"
          ]
        }
      ]
    },
    {
      "cell_type": "code",
      "source": [
        "#10. convert 5 into complex form\n",
        "print(complex(5))"
      ],
      "metadata": {
        "colab": {
          "base_uri": "https://localhost:8080/"
        },
        "id": "d4phPa0QYy6d",
        "outputId": "655e93bb-d6b9-4769-9d50-eeedd30f4152"
      },
      "execution_count": null,
      "outputs": [
        {
          "output_type": "stream",
          "name": "stdout",
          "text": [
            "(5+0j)\n"
          ]
        }
      ]
    },
    {
      "cell_type": "markdown",
      "source": [
        "# **24/08/2025**"
      ],
      "metadata": {
        "id": "H3jjl_YcF62M"
      }
    },
    {
      "cell_type": "code",
      "source": [],
      "metadata": {
        "id": "fABXSi7JGA84"
      },
      "execution_count": null,
      "outputs": []
    }
  ],
  "metadata": {
    "colab": {
      "provenance": [],
      "authorship_tag": "ABX9TyMERFEOEpTu1iol8zxqctDH",
      "include_colab_link": true
    },
    "kernelspec": {
      "display_name": "Python 3",
      "name": "python3"
    },
    "language_info": {
      "name": "python"
    }
  },
  "nbformat": 4,
  "nbformat_minor": 0
}